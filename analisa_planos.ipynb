{
 "cells": [
  {
   "cell_type": "markdown",
   "metadata": {},
   "source": [
    "# Analisa Planos"
   ]
  },
  {
   "cell_type": "markdown",
   "metadata": {},
   "source": [
    "### Importa os módulos necessários"
   ]
  },
  {
   "cell_type": "code",
   "execution_count": 134,
   "metadata": {},
   "outputs": [],
   "source": [
    "import pandas as pd"
   ]
  },
  {
   "cell_type": "markdown",
   "metadata": {},
   "source": [
    "### Importa o csv dos planos e mostra algumas informações"
   ]
  },
  {
   "cell_type": "code",
   "execution_count": 157,
   "metadata": {},
   "outputs": [
    {
     "name": "stdout",
     "output_type": "stream",
     "text": [
      "<class 'pandas.core.frame.DataFrame'>\n",
      "RangeIndex: 695 entries, 0 to 694\n",
      "Data columns (total 9 columns):\n",
      " #   Column             Non-Null Count  Dtype \n",
      "---  ------             --------------  ----- \n",
      " 0   id                 695 non-null    int64 \n",
      " 1   ano                695 non-null    int64 \n",
      " 2   periodo            695 non-null    int64 \n",
      " 3   curso              695 non-null    object\n",
      " 4   disciplina         695 non-null    object\n",
      " 5   codigo_turma       695 non-null    object\n",
      " 6   professores        695 non-null    object\n",
      " 7   email_professores  695 non-null    object\n",
      " 8   link               695 non-null    object\n",
      "dtypes: int64(3), object(6)\n",
      "memory usage: 49.0+ KB\n"
     ]
    }
   ],
   "source": [
    "data = pd.read_csv('planos_pgls.csv')\n",
    "data.head(), data.info(), data.nunique()\n",
    "data['professores'] = data['professores'].apply(lambda x: x.split(', '))\n",
    "data['email_professores'] = data['email_professores'].apply(lambda x: x.split(', '))"
   ]
  },
  {
   "cell_type": "markdown",
   "metadata": {},
   "source": [
    "### Organiza os planos com determinado parâmtro, podendo ser por curso ou disciplina"
   ]
  },
  {
   "cell_type": "code",
   "execution_count": 160,
   "metadata": {},
   "outputs": [
    {
     "data": {
      "text/html": [
       "<div>\n",
       "<style scoped>\n",
       "    .dataframe tbody tr th:only-of-type {\n",
       "        vertical-align: middle;\n",
       "    }\n",
       "\n",
       "    .dataframe tbody tr th {\n",
       "        vertical-align: top;\n",
       "    }\n",
       "\n",
       "    .dataframe thead th {\n",
       "        text-align: right;\n",
       "    }\n",
       "</style>\n",
       "<table border=\"1\" class=\"dataframe\">\n",
       "  <thead>\n",
       "    <tr style=\"text-align: right;\">\n",
       "      <th></th>\n",
       "      <th>id</th>\n",
       "      <th>periodo</th>\n",
       "      <th>curso</th>\n",
       "      <th>disciplina</th>\n",
       "      <th>codigo_turma</th>\n",
       "      <th>link</th>\n",
       "    </tr>\n",
       "  </thead>\n",
       "  <tbody>\n",
       "    <tr>\n",
       "      <th>647</th>\n",
       "      <td>47559</td>\n",
       "      <td>31</td>\n",
       "      <td>MASTER IN BUSINESS MANAGEMENT - ESPECIALIZAÇÃO...</td>\n",
       "      <td>ACTING</td>\n",
       "      <td>MBM04A</td>\n",
       "      <td>https://cgi.insper.edu.br/DiarioDeClasse/Plano...</td>\n",
       "    </tr>\n",
       "    <tr>\n",
       "      <th>421</th>\n",
       "      <td>51941</td>\n",
       "      <td>32</td>\n",
       "      <td>MASTER IN BUSINESS MANAGEMENT - ESPECIALIZAÇÃO...</td>\n",
       "      <td>ACTING</td>\n",
       "      <td>MBM05A</td>\n",
       "      <td>https://cgi.insper.edu.br/DiarioDeClasse/Plano...</td>\n",
       "    </tr>\n",
       "    <tr>\n",
       "      <th>477</th>\n",
       "      <td>51803</td>\n",
       "      <td>32</td>\n",
       "      <td>MASTER IN BUSINESS MANAGEMENT - ESPECIALIZAÇÃO...</td>\n",
       "      <td>ACTING</td>\n",
       "      <td>MBM05A_B</td>\n",
       "      <td>https://cgi.insper.edu.br/DiarioDeClasse/Plano...</td>\n",
       "    </tr>\n",
       "    <tr>\n",
       "      <th>267</th>\n",
       "      <td>52871</td>\n",
       "      <td>33</td>\n",
       "      <td>MASTER IN BUSINESS MANAGEMENT - ESPECIALIZAÇÃO...</td>\n",
       "      <td>ACTING</td>\n",
       "      <td>MBMTM06A</td>\n",
       "      <td>https://cgi.insper.edu.br/DiarioDeClasse/Plano...</td>\n",
       "    </tr>\n",
       "    <tr>\n",
       "      <th>144</th>\n",
       "      <td>57543</td>\n",
       "      <td>34</td>\n",
       "      <td>MASTER IN BUSINESS MANAGEMENT - ESPECIALIZAÇÃO...</td>\n",
       "      <td>ACTING</td>\n",
       "      <td>MBMTM07A</td>\n",
       "      <td>https://cgi.insper.edu.br/DiarioDeClasse/Plano...</td>\n",
       "    </tr>\n",
       "    <tr>\n",
       "      <th>...</th>\n",
       "      <td>...</td>\n",
       "      <td>...</td>\n",
       "      <td>...</td>\n",
       "      <td>...</td>\n",
       "      <td>...</td>\n",
       "      <td>...</td>\n",
       "    </tr>\n",
       "    <tr>\n",
       "      <th>542</th>\n",
       "      <td>50901</td>\n",
       "      <td>31</td>\n",
       "      <td>PROGRAMA AVANÇADO EM DATA SCIENCE E DECISÃO</td>\n",
       "      <td>WORKSHOP VII</td>\n",
       "      <td>PADSW08WKVII</td>\n",
       "      <td>https://cgi.insper.edu.br/DiarioDeClasse/Plano...</td>\n",
       "    </tr>\n",
       "    <tr>\n",
       "      <th>372</th>\n",
       "      <td>52117</td>\n",
       "      <td>32</td>\n",
       "      <td>PROGRAMA AVANÇADO EM DATA SCIENCE E DECISÃO</td>\n",
       "      <td>WORKSHOP VII</td>\n",
       "      <td>PADSONL02WKVII</td>\n",
       "      <td>https://cgi.insper.edu.br/DiarioDeClasse/Plano...</td>\n",
       "    </tr>\n",
       "    <tr>\n",
       "      <th>357</th>\n",
       "      <td>52325</td>\n",
       "      <td>32</td>\n",
       "      <td>PROGRAMA AVANÇADO EM DATA SCIENCE E DECISÃO</td>\n",
       "      <td>WORKSHOP VIII</td>\n",
       "      <td>PADSONL02WKVIII</td>\n",
       "      <td>https://cgi.insper.edu.br/DiarioDeClasse/Plano...</td>\n",
       "    </tr>\n",
       "    <tr>\n",
       "      <th>533</th>\n",
       "      <td>51247</td>\n",
       "      <td>31</td>\n",
       "      <td>PROGRAMA AVANÇADO EM GESTÃO PÚBLICA</td>\n",
       "      <td>ÉTICA E ORGANIZAÇÃO PÚBLICA</td>\n",
       "      <td>PAGPW12EOP</td>\n",
       "      <td>https://cgi.insper.edu.br/DiarioDeClasse/Plano...</td>\n",
       "    </tr>\n",
       "    <tr>\n",
       "      <th>293</th>\n",
       "      <td>52809</td>\n",
       "      <td>33</td>\n",
       "      <td>PROGRAMA AVANÇADO EM GESTÃO PÚBLICA</td>\n",
       "      <td>ÉTICA E ORGANIZAÇÃO PÚBLICA</td>\n",
       "      <td>PAGPW13EOP</td>\n",
       "      <td>https://cgi.insper.edu.br/DiarioDeClasse/Plano...</td>\n",
       "    </tr>\n",
       "  </tbody>\n",
       "</table>\n",
       "<p>695 rows × 6 columns</p>\n",
       "</div>"
      ],
      "text/plain": [
       "        id  periodo                                              curso  \\\n",
       "647  47559       31  MASTER IN BUSINESS MANAGEMENT - ESPECIALIZAÇÃO...   \n",
       "421  51941       32  MASTER IN BUSINESS MANAGEMENT - ESPECIALIZAÇÃO...   \n",
       "477  51803       32  MASTER IN BUSINESS MANAGEMENT - ESPECIALIZAÇÃO...   \n",
       "267  52871       33  MASTER IN BUSINESS MANAGEMENT - ESPECIALIZAÇÃO...   \n",
       "144  57543       34  MASTER IN BUSINESS MANAGEMENT - ESPECIALIZAÇÃO...   \n",
       "..     ...      ...                                                ...   \n",
       "542  50901       31        PROGRAMA AVANÇADO EM DATA SCIENCE E DECISÃO   \n",
       "372  52117       32        PROGRAMA AVANÇADO EM DATA SCIENCE E DECISÃO   \n",
       "357  52325       32        PROGRAMA AVANÇADO EM DATA SCIENCE E DECISÃO   \n",
       "533  51247       31                PROGRAMA AVANÇADO EM GESTÃO PÚBLICA   \n",
       "293  52809       33                PROGRAMA AVANÇADO EM GESTÃO PÚBLICA   \n",
       "\n",
       "                      disciplina     codigo_turma  \\\n",
       "647                       ACTING           MBM04A   \n",
       "421                       ACTING           MBM05A   \n",
       "477                       ACTING         MBM05A_B   \n",
       "267                       ACTING         MBMTM06A   \n",
       "144                       ACTING         MBMTM07A   \n",
       "..                           ...              ...   \n",
       "542                 WORKSHOP VII     PADSW08WKVII   \n",
       "372                 WORKSHOP VII   PADSONL02WKVII   \n",
       "357                WORKSHOP VIII  PADSONL02WKVIII   \n",
       "533  ÉTICA E ORGANIZAÇÃO PÚBLICA       PAGPW12EOP   \n",
       "293  ÉTICA E ORGANIZAÇÃO PÚBLICA       PAGPW13EOP   \n",
       "\n",
       "                                                  link  \n",
       "647  https://cgi.insper.edu.br/DiarioDeClasse/Plano...  \n",
       "421  https://cgi.insper.edu.br/DiarioDeClasse/Plano...  \n",
       "477  https://cgi.insper.edu.br/DiarioDeClasse/Plano...  \n",
       "267  https://cgi.insper.edu.br/DiarioDeClasse/Plano...  \n",
       "144  https://cgi.insper.edu.br/DiarioDeClasse/Plano...  \n",
       "..                                                 ...  \n",
       "542  https://cgi.insper.edu.br/DiarioDeClasse/Plano...  \n",
       "372  https://cgi.insper.edu.br/DiarioDeClasse/Plano...  \n",
       "357  https://cgi.insper.edu.br/DiarioDeClasse/Plano...  \n",
       "533  https://cgi.insper.edu.br/DiarioDeClasse/Plano...  \n",
       "293  https://cgi.insper.edu.br/DiarioDeClasse/Plano...  \n",
       "\n",
       "[695 rows x 6 columns]"
      ]
     },
     "execution_count": 160,
     "metadata": {},
     "output_type": "execute_result"
    }
   ],
   "source": [
    "sort_param = input('Quais dados deseja filtrar? Escolha entre curso e disciplina').lower()\n",
    "save = input('Deseja salvar em um csv? Y/N').lower()\n",
    "sorted_data = pd.DataFrame()\n",
    "\n",
    "if sort_param == 'curso':\n",
    "    sorted_data = data[['id', 'ano', 'periodo', 'curso', 'disciplina', 'codigo_turma', 'link']].sort_values(by=['curso', 'periodo'])\n",
    "elif sort_param == 'disciplina':\n",
    "    sorted_data = data[['id', 'periodo', 'curso', 'disciplina', 'codigo_turma', 'link']].sort_values(by=['disciplina', 'periodo'])\n",
    "else: \n",
    "    print('Erro: Digite Curso ou Disciplina para filtrar')\n",
    "\n",
    "if save == 'y':\n",
    "    sorted_data.to_csv(f'planos_pgls_sorted_{sort_param}.csv', index=False)\n",
    "\n",
    "sorted_data"
   ]
  },
  {
   "cell_type": "code",
   "execution_count": 164,
   "metadata": {},
   "outputs": [
    {
     "data": {
      "text/plain": [
       "<pandas.core.groupby.generic.DataFrameGroupBy object at 0x7f3f4bfd34d0>"
      ]
     },
     "execution_count": 164,
     "metadata": {},
     "output_type": "execute_result"
    }
   ],
   "source": [
    "sorted_data.groupby('disciplina')"
   ]
  },
  {
   "cell_type": "markdown",
   "metadata": {},
   "source": [
    "### Faz o web scraping dos planos"
   ]
  },
  {
   "cell_type": "code",
   "execution_count": 30,
   "metadata": {},
   "outputs": [],
   "source": [
    "import requests\n",
    "from bs4 import BeautifulSoup\n",
    "from tqdm import tqdm"
   ]
  },
  {
   "cell_type": "code",
   "execution_count": 198,
   "metadata": {},
   "outputs": [
    {
     "name": "stdout",
     "output_type": "stream",
     "text": [
      "https://cgi.insper.edu.br/DiarioDeClasse/PlanoDeAula/PlanoDeAulaPDF.aspx?t=Plano%20de%20Aula%20Atualizado&id=47559,&d=false\n",
      "['', 'Aula 1\\r', '                                                ', '31/01/2024', '19:15-22:15', '', '', '', '', '', '', '', 'Relacionar as decisões organizacionais tomadas em relação a marcas, linhas de produtos e critérios de desempenho de operações com a estratégia da empresa. Analisar mudanças de mercado e prever seus impactos na gestão de demanda e de capacidade de operações.', 'Introdução ao módulo Acting - Marketing e Operações', 'APS Visão Sistêmica da Organização', 'Discussão plenária sobre o temaAtividade individual reflexiva sobre visão sistêmica', '']\n",
      "['', 'Aula 2\\r', '                                                ', '01/02/2024', '19:15-22:15', '', '', '', '', '', '', '', 'Relacionar as decisões organizacionais tomadas em relação a marcas, linhas de produtos e critérios de desempenho de operações com a estratégia da empresa.', 'Fundamentos de Operações (produtos/serviços)', 'APS Fundamentos de Marketing e de Operações', 'Lecture e Mini-casos', '']\n",
      "['', 'Aula 3\\r', '                                                ', '07/02/2024', '19:15-22:15', '', '', '', '', '', '', '', 'Relacionar as decisões organizacionais tomadas em relação a marcas, linhas de produtos e critérios de desempenho de operações com a estratégia da empresa. Analisar mudanças de mercado e prever seus impactos na gestão de demanda e de capacidade de operações.', 'Fundamentos de Marketing e conexão com a estratégia de Empresa', 'APS Fundamentos de Marketing e de Operações', 'Discussão plenária sobre o temaAtividade em grupo sobre tendências utilizando o Jamboard', '']\n",
      "['', 'Aula 4\\r', '                                                ', '08/02/2024', '19:15-22:15', '', '', '', '', '', '', '', 'Relacionar as decisões organizacionais tomadas em relação a marcas, linhas de produtos e critérios de desempenho de operações com a estratégia da empresa.', 'Estratégia de Operações', 'APS Alinhamento Estratégico', 'Atividade prévia: quiz Estratégia de OperaçõesCaso Justo', '']\n",
      "['', 'Aula 5\\r', '                                                ', '22/02/2024', '19:15-22:15', '', '', '', '', '', '', '', 'Analisar a rentabilidade de produtos, linhas e segmentos com base nas ferramentas de custos por absorção e, especialmente, custeio variável.', 'Rentabilidade e custeio', 'APS Jornada do Cliente e Cadeia de Suprimentos ', 'Exercício e discussão: Ponto de Equilíbrio Operacional', '']\n",
      "['', 'Aula 6\\r', '                                                ', '28/02/2024', '19:15-22:15', '', '', '', '', '', '', '', 'Relacionar as decisões organizacionais tomadas em relação a marcas, linhas de produtos e critérios de desempenho de operações com a estratégia da empresa. Propor estratégia de preços e principais processos de formação de preços, e definir os canais de marketing, vendas e distribuição de forma integrada com estratégia da empresa, de marketing e de operações aplicando as técnicas de segmentação de mercado, targeting e posicionamento', 'Proposta de Valor', 'APS Alinhamento Estratégico', 'Discussão plenária sobre o temaAtividade em grupo no Canvas - Proposta de Valor', '']\n",
      "['', 'Aula 7\\r', '                                                ', '29/02/2024', '19:15-22:15', '', '', '', '', '', '', '', 'Estabelecer parâmetros para o relacionamento com a cadeia de suprimentos que permitam a otimização dos recursos logísticos (estoques e transportes).', 'Cadeia de suprimentos (relacionamentos)', 'APS Jornada do Cliente e Cadeia de Suprimentos ', 'Atividade prévia: quiz SCMMini-caso KFC', '']\n",
      "['', 'Aula 8\\r', '                                                ', '06/03/2024', '19:15-22:15', '', '', '', '', '', '', '', 'Relacionar as decisões organizacionais tomadas em relação a marcas, linhas de produtos e critérios de desempenho de operações com a estratégia da empresa. Propor estratégia de preços e principais processos de formação de preços, e definir os canais de marketing, vendas e distribuição de forma integrada com estratégia da empresa, de marketing e de operações aplicando as técnicas de segmentação de mercado, targeting e posicionamento', 'Jornada do Cliente', 'APS Jornada do Cliente e Cadeia de Suprimentos ', 'Discussão plenária sobre o temaAtividade Individual de Jornada Video', '']\n",
      "['', 'Aula 9\\r', '                                                ', '07/03/2024', '19:15-22:15', '', '', '', '', '', '', '', 'Estabelecer parâmetros para o relacionamento com a cadeia de suprimentos que permitam a otimização dos recursos logísticos (estoques e transportes).', 'Cadeia de suprimentos (estoques, make or buy)', 'APS Jornada do Cliente e Cadeia de Suprimentos ', 'Mini-caso KFC', '']\n",
      "['', 'Aula 10\\r', '                                                ', '13/03/2024', '19:15-22:15', '', '', '', '', '', '', '', 'Propor estratégia de preços e principais processos de formação de preços, e definir os canais de marketing, vendas e distribuição de forma integrada com estratégia da empresa, de marketing e de operações aplicando as técnicas de segmentação de mercado, targeting e posicionamento', 'Posicionamento estratégico (STP)', 'APS STP e Gestão da Demanda', 'Discussão plenária sobre o temaAtividade em grupo sobre segmentaçãoAtividade individual sobre posicionamento', '']\n",
      "['', 'Aula 11\\r', '                                                ', '14/03/2024', '19:15-22:15', '', '', '', '', '', '', '', 'Analisar mudanças de mercado e prever seus impactos na gestão de demanda e de capacidade de operações.', 'Gestão de demanda', 'APS STP e Gestão da Demanda', 'Atividade prévia: quiz Previsão de DemandaExercício e discussão: Previsão de Demanda com Tendência e Ciclicidade', '']\n",
      "['', 'Aula 12\\r', '                                                ', '15/03/2024', '19:15-22:15', '', '', '', '', '', '', '', 'Propor estratégia de preços e principais processos de formação de preços, e definir os canais de marketing, vendas e distribuição de forma integrada com estratégia da empresa, de marketing e de operações aplicando as técnicas de segmentação de mercado, targeting e posicionamento Analisar a rentabilidade de produtos, linhas e segmentos com base nas ferramentas de custos por absorção e, especialmente, custeio variável.', 'Marketing mix', 'APS Marketing Mix', 'Discussão plenária sobre o temaAtividade em grupo sobre produtos e serviços', '']\n",
      "['', 'Aula 13\\r', '                                                CANCELADA', '20/03/2024', '19:15-22:15', '', '', '', '', '', '', '', 'Propor estratégia de preços e principais processos de formação de preços, e definir os canais de marketing, vendas e distribuição de forma integrada com estratégia da empresa, de marketing e de operações aplicando as técnicas de segmentação de mercado, targeting e posicionamento Analisar a rentabilidade de produtos, linhas e segmentos com base nas ferramentas de custos por absorção e, especialmente, custeio variável.', 'Marketing mix', 'APS Marketing Mix', 'Discussão plenária sobre o temaAtividade em grupo sobre Promoção e Canais', '']\n",
      "['', 'Aula 14\\r', '                                                ', '21/03/2024', '19:15-22:15', '', '', '', '', '', '', '', 'Analisar mudanças de mercado e prever seus impactos na gestão de demanda e de capacidade de operações.', 'Gestão de demanda', 'APS STP e Gestão da Demanda', 'Exercício e discussão: Previsão de Demanda relativamente estável.Simulação Benihana', '']\n",
      "['', 'Aula 15\\r', '                                                ', '27/03/2024', '19:15-22:15', '', '', '', '', '', '', '', 'Relacionar as decisões organizacionais tomadas em relação a marcas, linhas de produtos e critérios de desempenho de operações com a estratégia da empresa. Analisar mudanças de mercado e prever seus impactos na gestão de demanda e de capacidade de operações.', 'Marketing analytics - Indicadores', 'APS Transformação Digital e Gestão de Capacidade', 'Discussão plenária sobre o tema', '']\n",
      "['', 'Aula 16\\r', '                                                ', '28/03/2024', '19:15-22:15', '', '', '', '', '', '', '', 'Analisar mudanças de mercado e prever seus impactos na gestão de demanda e de capacidade de operações.', '\\xa0Gestão de capacidade', 'APS Transformação Digital e Gestão de Capacidade', 'Mini-caso Barca de Tingimento', '']\n",
      "['', 'Aula 17\\r', '                                                Reposição', '02/04/2024', '19:15-22:15', '', '', '', '', '', '', '', 'Relacionar as decisões organizacionais tomadas em relação a marcas, linhas de produtos e critérios de desempenho de operações com a estratégia da empresa. Analisar mudanças de mercado e prever seus impactos na gestão de demanda e de capacidade de operações.', 'Transformação digital e suas implicações', 'APS Transformação Digital e Gestão de Capacidade', 'Aula dada por convidado externo especialista no assunto', '']\n",
      "['', 'Aula 18\\r', '                                                ', '04/04/2024', '19:15-22:15', '', '', '', '', '', '', '', 'Relacionar as decisões organizacionais tomadas em relação a marcas, linhas de produtos e critérios de desempenho de operações com a estratégia da empresa. Analisar mudanças de mercado e prever seus impactos na gestão de demanda e de capacidade de operações.', 'Transformação digital e suas implicações', 'APS Transformação Digital e Gestão de Capacidade', 'Aula dada por convidado externo especialista no assunto', '']\n"
     ]
    }
   ],
   "source": [
    "for link in sorted_data['link']:\n",
    "    # Faz uma requisição para obter a página HTML\n",
    "    page = requests.get(link)\n",
    "    # Faz um parse do conteúdo da página\n",
    "    soup = BeautifulSoup(page.content, \"html.parser\")\n",
    "    # Procura por todos os elementos da página que são uma div que possuem a classe textInline\n",
    "    rows = soup.find_all('tr')\n",
    "    print(link)\n",
    "    if len(rows) > 0:\n",
    "        for i in range(2, len(rows)-2):\n",
    "            aula = rows[i].text.split('\\n')\n",
    "            print(aula)\n",
    "        break"
   ]
  },
  {
   "cell_type": "code",
   "execution_count": null,
   "metadata": {},
   "outputs": [],
   "source": []
  }
 ],
 "metadata": {
  "kernelspec": {
   "display_name": ".venv",
   "language": "python",
   "name": "python3"
  },
  "language_info": {
   "codemirror_mode": {
    "name": "ipython",
    "version": 3
   },
   "file_extension": ".py",
   "mimetype": "text/x-python",
   "name": "python",
   "nbconvert_exporter": "python",
   "pygments_lexer": "ipython3",
   "version": "3.12.6"
  }
 },
 "nbformat": 4,
 "nbformat_minor": 2
}
