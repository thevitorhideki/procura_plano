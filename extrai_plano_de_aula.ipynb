{
 "cells": [
  {
   "cell_type": "markdown",
   "metadata": {},
   "source": [
    "# Extrai plano de aula da PGLS\n",
    "\n",
    "Esse arquivo tem como função fazer um web scraping (pegar informações de uma página web) nos planos de aula da Pós Graduação Lato Sensu. Para isso utiliza-se o módulo requests do python para pedir os arquivos das páginas ao servidor (um por vez, começando no id mais alto e decrescendo até um número obtido empiricamente) e utiliza o beautiful soup para extrair as informações dessa página. Em um primeiro momento, os dados extraídos são: id, ano, período (31, 32, 33, 34), curso, disciplina, código da turma e link do plano. Esses dados são escritos em um arquivo .csv com a nomenclatura **planos_pgls_{start}_{end}.csv**.\n",
    "\n",
    "## Como utilizar\n",
    "\n",
    "Para rodar o script desse arquivo, garanta que criou um ambiente virtual com as dependências do requirements.txt e execute o arquivo todo."
   ]
  },
  {
   "cell_type": "markdown",
   "metadata": {},
   "source": [
    "### Importa os módulos necessários"
   ]
  },
  {
   "cell_type": "code",
   "execution_count": 1,
   "metadata": {},
   "outputs": [],
   "source": [
    "import requests\n",
    "from bs4 import BeautifulSoup\n",
    "from tqdm import tqdm"
   ]
  },
  {
   "cell_type": "markdown",
   "metadata": {},
   "source": [
    "### Função que faz as requisições, o web scraping da página e salva as informações em um csv "
   ]
  },
  {
   "cell_type": "code",
   "execution_count": 1,
   "metadata": {},
   "outputs": [],
   "source": [
    "def search_plans():\n",
    "    classes_registered = [] # Cria uma lista que armazena as turmas já registradas no csv para evitar as repetições\n",
    "    start = 61766 # Id mais alto dos planos de aula\n",
    "    end = 0 # Id do ultimo plano de aula do ano de 2024 (obtido empiricamente)\n",
    "        \n",
    "    with open(f'planos_pgls_{start}_{end}.csv', 'w') as f:\n",
    "        f.write(f'id,ano,periodo,curso,disciplina,codigo_turma,professores,email_professores,link\\n') # Escreve o cabeçalho no csv\n",
    "    \n",
    "    # O TQDM é uma biblioteca opcional que mostra o progresso de um for loop\n",
    "    for i in tqdm(range(start, end, -1)):\n",
    "        # Faz uma requisição para obter a página HTML\n",
    "        page = requests.get(f'https://cgi.insper.edu.br/DiarioDeClasse/PlanoDeAula/PlanoDeAulaPDF.aspx?t=Plano%20de%20Aula&id={i},&d=false')\n",
    "        # Faz um parse do conteúdo da página\n",
    "        soup = BeautifulSoup(page.content, \"html.parser\", from_encoding='utf-8')\n",
    "        # Procura por todos os elementos da página que são uma div que possuem a classe textInline\n",
    "        elements = soup.find_all('div', 'textInline')\n",
    "\n",
    "        # Se a página possui um elemento (evita erro em páginas vazias)...\n",
    "        if len(elements) > 0:\n",
    "            course = elements[0].text.strip() # Extrai o curso referente ao plano\n",
    "            subject = elements[1].text.strip() # Extrai a disciplina referente ao plano\n",
    "            class_code = elements[2].text.strip() # Extrai o código da turma referente ao plano\n",
    "            year, period = elements[4].text.strip().split(' / ') # Extrai o ano e o período referente ao plano\n",
    "            teachers_names = elements[5].text.strip().split('/') # Extrai os nomes dos professores e os coloca em uma lista\n",
    "            teachers_names = [' '.join([name.capitalize() for name in teacher.strip().split()]) for teacher in teachers_names] # Capitaliza os nomes\n",
    "            teachers_names = ', '.join(teachers_names) # Junta os nomes em uma string\n",
    "            teachers_emails = elements[6].text.strip().split('/') # Extrai os emails dos professores e os coloca em uma lista\n",
    "            teachers_emails = [teacher.strip().lower() for teacher in teachers_emails] # Coloca os emails em caixa baixa\n",
    "            teachers_emails = ', '.join(teachers_emails) # Junta os nomes em uma string\n",
    "            \n",
    "            # Se o período estiver no padrão da pós-graduação (exclui os planos da graduação), \n",
    "            # o código da turma não está na lista de códigos registrados e o ano é de 2024...\n",
    "            if period in ['31', '32', '33', '34'] and class_code not in classes_registered and year == '2024':\n",
    "                classes_registered.append(class_code) # Adiciona o código da turma na lista\n",
    "                # Escreve no csv criado as informações do plano de aula\n",
    "                with open(f'planos_pgls_{start}_{end}.csv', 'a', encoding='utf-8') as f: \n",
    "                    f.write(f'{i},{year},{period},\"{course}\",\"{subject}\",\"{class_code}\",\"{teachers_names}\",\"{teachers_emails}\",\"https://cgi.insper.edu.br/DiarioDeClasse/PlanoDeAula/PlanoDeAulaPDF.aspx?t=Plano%20de%20Aula%20Atualizado&id={i},&d=false\"\\n')\n",
    "        "
   ]
  },
  {
   "cell_type": "markdown",
   "metadata": {},
   "source": [
    "### Executa a função"
   ]
  },
  {
   "cell_type": "code",
   "execution_count": 35,
   "metadata": {},
   "outputs": [
    {
     "name": "stderr",
     "output_type": "stream",
     "text": [
      "100%|██████████| 21766/21766 [1:52:57<00:00,  3.21it/s]   \n"
     ]
    }
   ],
   "source": [
    "search_plans()"
   ]
  }
 ],
 "metadata": {
  "kernelspec": {
   "display_name": ".venv",
   "language": "python",
   "name": "python3"
  },
  "language_info": {
   "codemirror_mode": {
    "name": "ipython",
    "version": 3
   },
   "file_extension": ".py",
   "mimetype": "text/x-python",
   "name": "python",
   "nbconvert_exporter": "python",
   "pygments_lexer": "ipython3",
   "version": "3.12.6"
  }
 },
 "nbformat": 4,
 "nbformat_minor": 2
}
