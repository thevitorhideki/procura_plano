{
 "cells": [
  {
   "cell_type": "markdown",
   "metadata": {},
   "source": [
    "# Web scraping do Insper"
   ]
  },
  {
   "cell_type": "markdown",
   "metadata": {},
   "source": [
    "### Importações necessárias"
   ]
  },
  {
   "cell_type": "code",
   "execution_count": null,
   "metadata": {},
   "outputs": [],
   "source": [
    "import requests\n",
    "from bs4 import BeautifulSoup\n",
    "from tqdm import tqdm\n",
    "import pandas as pd\n",
    "import re"
   ]
  },
  {
   "cell_type": "markdown",
   "metadata": {},
   "source": [
    "### Código para construir o csv com as matérias de determinado curso"
   ]
  },
  {
   "cell_type": "code",
   "execution_count": null,
   "metadata": {},
   "outputs": [],
   "source": [
    "def procura_plano(curso):\n",
    "    curso = curso.lower()\n",
    "    materias = []\n",
    "\n",
    "    for i in tqdm(range(51599, 37000, -1)):\n",
    "        page = requests.get(f'https://cgi.insper.edu.br/DiarioDeClasse/PlanoDeAula/PlanoDeAulaPDF.aspx?t=Plano%20de%20Aula%20Atualizado&id={i},&d=false')\n",
    "        soup = BeautifulSoup(page.content, \"html.parser\")\n",
    "        elements = soup.find_all('div', 'textInline')\n",
    "        for element in elements:\n",
    "            texto = element.text.strip().lower()\n",
    "            materia = elements[1].text.strip().lower()\n",
    "            ano = elements[4].text.strip().split()[0]\n",
    "            tipo = 'obrigatória'\n",
    "            if re.search(r'_elet_', elements[2].text.strip().lower()):\n",
    "                continue\n",
    "            elif re.search(r'_opt_', elements[2].text.strip().lower()):\n",
    "                continue\n",
    "            \n",
    "            if texto == curso and materia not in materias:\n",
    "                materias.append(materia)\n",
    "                with open('links.csv', 'a') as f:\n",
    "                    f.write(f'{i},\"{materia}\",\"{curso}\",\"{tipo}\",\"https://cgi.insper.edu.br/DiarioDeClasse/PlanoDeAula/PlanoDeAulaPDF.aspx?t=Plano%20de%20Aula%20Atualizado&id={i},&d=false\"\\n')"
   ]
  },
  {
   "cell_type": "code",
   "execution_count": null,
   "metadata": {},
   "outputs": [],
   "source": [
    "curso = input('Digite o nome do curso: ')\n",
    "procura_plano(curso)"
   ]
  },
  {
   "cell_type": "markdown",
   "metadata": {},
   "source": [
    "### O código abaixo serve para trabalhar com o csv construído"
   ]
  },
  {
   "cell_type": "code",
   "execution_count": null,
   "metadata": {},
   "outputs": [],
   "source": [
    "planos = pd.read_csv('plano_de_aula.csv')"
   ]
  },
  {
   "cell_type": "code",
   "execution_count": null,
   "metadata": {},
   "outputs": [],
   "source": [
    "materia = input('Qual matéria você quer pesquisar? ').lower()\n",
    "plano_pesquisado = planos.loc[planos['Materia'] == materia, :]\n",
    "plano_pesquisado.Link.values[0]"
   ]
  }
 ],
 "metadata": {
  "kernelspec": {
   "display_name": "base",
   "language": "python",
   "name": "python3"
  },
  "language_info": {
   "codemirror_mode": {
    "name": "ipython",
    "version": 3
   },
   "file_extension": ".py",
   "mimetype": "text/x-python",
   "name": "python",
   "nbconvert_exporter": "python",
   "pygments_lexer": "ipython3",
   "version": "3.11.5"
  }
 },
 "nbformat": 4,
 "nbformat_minor": 2
}
